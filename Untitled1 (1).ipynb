{
  "nbformat": 4,
  "nbformat_minor": 0,
  "metadata": {
    "colab": {
      "provenance": []
    },
    "kernelspec": {
      "name": "python3",
      "display_name": "Python 3"
    },
    "language_info": {
      "name": "python"
    }
  },
  "cells": [
    {
      "cell_type": "code",
      "execution_count": 3,
      "metadata": {
        "id": "JPHJ-Fud4ynq",
        "colab": {
          "base_uri": "https://localhost:8080/"
        },
        "outputId": "3047cf9b-7f20-418a-b594-82bd72674620"
      },
      "outputs": [
        {
          "output_type": "stream",
          "name": "stdout",
          "text": [
            "<class 'str'>\n",
            "<class 'str'>\n"
          ]
        }
      ],
      "source": [
        "name=\"王楷茵\"\n",
        "ID=\"B1205022\"\n",
        "print(type(name))\n",
        "print(type(ID))"
      ]
    },
    {
      "cell_type": "code",
      "source": [
        "information=[\"王楷茵\",\"B1205022\"]\n",
        "print(information)"
      ],
      "metadata": {
        "colab": {
          "base_uri": "https://localhost:8080/"
        },
        "id": "lvHlCscw-UnQ",
        "outputId": "c1fa45aa-1529-467e-a1f2-0c9ae4db2751"
      },
      "execution_count": 2,
      "outputs": [
        {
          "output_type": "stream",
          "name": "stdout",
          "text": [
            "['王楷茵', 'B1205022']\n"
          ]
        }
      ]
    }
  ]
}