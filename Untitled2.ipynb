{
  "nbformat": 4,
  "nbformat_minor": 0,
  "metadata": {
    "colab": {
      "provenance": []
    },
    "kernelspec": {
      "name": "python3",
      "display_name": "Python 3"
    },
    "language_info": {
      "name": "python"
    }
  },
  "cells": [
    {
      "cell_type": "code",
      "execution_count": 6,
      "metadata": {
        "colab": {
          "base_uri": "https://localhost:8080/"
        },
        "id": "gJ5WwjCXBdxu",
        "outputId": "d2ea0fb2-5c91-4b31-83b0-8148c26ca759"
      },
      "outputs": [
        {
          "output_type": "stream",
          "name": "stdout",
          "text": [
            "請輸入數字:5\n",
            "1×1=1\n",
            "1×2=2\n",
            "1×3=3\n",
            "1×4=4\n",
            "1×5=5\n",
            "2×1=2\n",
            "2×2=4\n",
            "2×3=6\n",
            "2×4=8\n",
            "2×5=10\n",
            "3×1=3\n",
            "3×2=6\n",
            "3×3=9\n",
            "3×4=12\n",
            "3×5=15\n",
            "4×1=4\n",
            "4×2=8\n",
            "4×3=12\n",
            "4×4=16\n",
            "4×5=20\n",
            "5×1=5\n",
            "5×2=10\n",
            "5×3=15\n",
            "5×4=20\n",
            "5×5=25\n"
          ]
        }
      ],
      "source": [
        "x= int(input(\"請輸入數字:\"))\n",
        "for i in range(1,x+1):\n",
        "  for j in range(1,x+1):\n",
        "    product=i*j\n",
        "    print(f\"{i}×{j}={product}\")\n",
        "\n",
        "\n"
      ]
    },
    {
      "cell_type": "code",
      "source": [
        "import random\n",
        "target_number = random.randint(1, 100)\n",
        "a = int(input('輸入 1～100 的數字：'))\n",
        "while target_number!=a:\n",
        "  if a < target_number:\n",
        "    a = int(input('數字太小了！再試一次：'))\n",
        "  elif a > target_number:\n",
        "    a = int(input('數字太大了!再試一次：'))\n",
        "print('答對了！')\n"
      ],
      "metadata": {
        "colab": {
          "base_uri": "https://localhost:8080/"
        },
        "id": "m1r7dLi4B4cm",
        "outputId": "e050df27-6cbd-4b79-a6cb-21bbb188c23c"
      },
      "execution_count": 10,
      "outputs": [
        {
          "output_type": "stream",
          "name": "stdout",
          "text": [
            "輸入 1～100 的數字：50\n",
            "數字太小了！再試一次：75\n",
            "數字太小了！再試一次：90\n",
            "數字太小了！再試一次：95\n",
            "數字太小了！再試一次：97\n",
            "答對了！\n"
          ]
        }
      ]
    }
  ]
}